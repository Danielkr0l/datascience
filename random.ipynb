{
  "nbformat": 4,
  "nbformat_minor": 0,
  "metadata": {
    "colab": {
      "provenance": [],
      "authorship_tag": "ABX9TyOBAt3bGSnYuzzF5le7sxZJ",
      "include_colab_link": true
    },
    "kernelspec": {
      "name": "python3",
      "display_name": "Python 3"
    },
    "language_info": {
      "name": "python"
    }
  },
  "cells": [
    {
      "cell_type": "markdown",
      "metadata": {
        "id": "view-in-github",
        "colab_type": "text"
      },
      "source": [
        "<a href=\"https://colab.research.google.com/github/Danielkr0l/datascience/blob/main/random.ipynb\" target=\"_parent\"><img src=\"https://colab.research.google.com/assets/colab-badge.svg\" alt=\"Open In Colab\"/></a>"
      ]
    },
    {
      "cell_type": "code",
      "source": [
        "import numpy as np\n",
        "np.random.seed(0)"
      ],
      "metadata": {
        "id": "HylTVUkKfrBt"
      },
      "execution_count": 20,
      "outputs": []
    },
    {
      "cell_type": "code",
      "source": [
        "np.random.randn()"
      ],
      "metadata": {
        "colab": {
          "base_uri": "https://localhost:8080/"
        },
        "id": "-6pomO_qHnrI",
        "outputId": "25079679-cf17-4cfb-dbf8-c5c9dc754dfa"
      },
      "execution_count": 19,
      "outputs": [
        {
          "output_type": "execute_result",
          "data": {
            "text/plain": [
              "-1.001461808782458"
            ]
          },
          "metadata": {},
          "execution_count": 19
        }
      ]
    },
    {
      "cell_type": "code",
      "source": [
        "np.random.randn(10)"
      ],
      "metadata": {
        "colab": {
          "base_uri": "https://localhost:8080/"
        },
        "id": "wdM6_0kqHw7Y",
        "outputId": "3168e743-dc19-4ef2-a5f3-2615ab4cd3de"
      },
      "execution_count": 21,
      "outputs": [
        {
          "output_type": "execute_result",
          "data": {
            "text/plain": [
              "array([ 1.76405235,  0.40015721,  0.97873798,  2.2408932 ,  1.86755799,\n",
              "       -0.97727788,  0.95008842, -0.15135721, -0.10321885,  0.4105985 ])"
            ]
          },
          "metadata": {},
          "execution_count": 21
        }
      ]
    },
    {
      "cell_type": "code",
      "source": [
        "np.random.randn(5,4)"
      ],
      "metadata": {
        "colab": {
          "base_uri": "https://localhost:8080/"
        },
        "id": "zYxkM5fDH1Aw",
        "outputId": "f7df4d43-cab0-48da-b3ec-d911be04300b"
      },
      "execution_count": 22,
      "outputs": [
        {
          "output_type": "execute_result",
          "data": {
            "text/plain": [
              "array([[ 0.14404357,  1.45427351,  0.76103773,  0.12167502],\n",
              "       [ 0.44386323,  0.33367433,  1.49407907, -0.20515826],\n",
              "       [ 0.3130677 , -0.85409574, -2.55298982,  0.6536186 ],\n",
              "       [ 0.8644362 , -0.74216502,  2.26975462, -1.45436567],\n",
              "       [ 0.04575852, -0.18718385,  1.53277921,  1.46935877]])"
            ]
          },
          "metadata": {},
          "execution_count": 22
        }
      ]
    },
    {
      "cell_type": "code",
      "source": [
        "np.random.rand(10,2)"
      ],
      "metadata": {
        "colab": {
          "base_uri": "https://localhost:8080/"
        },
        "id": "qz-cmeshIBxv",
        "outputId": "9116a973-b1da-423a-b268-9f922f14a718"
      },
      "execution_count": 24,
      "outputs": [
        {
          "output_type": "execute_result",
          "data": {
            "text/plain": [
              "array([[0.6818203 , 0.3595079 ],\n",
              "       [0.43703195, 0.6976312 ],\n",
              "       [0.06022547, 0.66676672],\n",
              "       [0.67063787, 0.21038256],\n",
              "       [0.1289263 , 0.31542835],\n",
              "       [0.36371077, 0.57019677],\n",
              "       [0.43860151, 0.98837384],\n",
              "       [0.10204481, 0.20887676],\n",
              "       [0.16130952, 0.65310833],\n",
              "       [0.2532916 , 0.46631077]])"
            ]
          },
          "metadata": {},
          "execution_count": 24
        }
      ]
    },
    {
      "cell_type": "code",
      "source": [
        "np.random.randint(20)"
      ],
      "metadata": {
        "colab": {
          "base_uri": "https://localhost:8080/"
        },
        "id": "QNRF6KG6IN_4",
        "outputId": "fbca1106-6c73-4078-d3b5-fb021e072827"
      },
      "execution_count": 29,
      "outputs": [
        {
          "output_type": "execute_result",
          "data": {
            "text/plain": [
              "17"
            ]
          },
          "metadata": {},
          "execution_count": 29
        }
      ]
    },
    {
      "cell_type": "code",
      "source": [
        "np.random.randint(50,60, size = 5)"
      ],
      "metadata": {
        "colab": {
          "base_uri": "https://localhost:8080/"
        },
        "id": "A1fMlWLzIWGX",
        "outputId": "4ed14c96-0671-4f08-ac38-6adc0d4f79e8"
      },
      "execution_count": 34,
      "outputs": [
        {
          "output_type": "execute_result",
          "data": {
            "text/plain": [
              "array([55, 50, 51, 52, 54])"
            ]
          },
          "metadata": {},
          "execution_count": 34
        }
      ]
    },
    {
      "cell_type": "code",
      "source": [
        "np.random.choice([1,100,10,4,7])"
      ],
      "metadata": {
        "colab": {
          "base_uri": "https://localhost:8080/"
        },
        "id": "-AHJJNSnIiH_",
        "outputId": "6d7c1f6c-7522-4ca6-ed5f-2c141b3eb7cd"
      },
      "execution_count": 57,
      "outputs": [
        {
          "output_type": "execute_result",
          "data": {
            "text/plain": [
              "100"
            ]
          },
          "metadata": {},
          "execution_count": 57
        }
      ]
    },
    {
      "cell_type": "code",
      "source": [
        "data = np.arange(10)\n",
        "data"
      ],
      "metadata": {
        "colab": {
          "base_uri": "https://localhost:8080/"
        },
        "id": "Q_bR70o3I1tQ",
        "outputId": "47ba8326-f0ed-42b6-802e-e84c890273f8"
      },
      "execution_count": 59,
      "outputs": [
        {
          "output_type": "execute_result",
          "data": {
            "text/plain": [
              "array([0, 1, 2, 3, 4, 5, 6, 7, 8, 9])"
            ]
          },
          "metadata": {},
          "execution_count": 59
        }
      ]
    },
    {
      "cell_type": "code",
      "source": [
        "np.random.shuffle(data)\n",
        "data"
      ],
      "metadata": {
        "colab": {
          "base_uri": "https://localhost:8080/"
        },
        "id": "j3GnKqAfI80e",
        "outputId": "7103a371-7dc3-4ee3-946c-4f2ef4caed8f"
      },
      "execution_count": 61,
      "outputs": [
        {
          "output_type": "execute_result",
          "data": {
            "text/plain": [
              "array([8, 0, 4, 3, 6, 5, 1, 9, 2, 7])"
            ]
          },
          "metadata": {},
          "execution_count": 61
        }
      ]
    }
  ]
}